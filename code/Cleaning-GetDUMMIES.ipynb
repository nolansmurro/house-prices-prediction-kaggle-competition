{
 "cells": [
  {
   "cell_type": "markdown",
   "id": "f0f9ca5e-de8e-49ad-8e3c-d30149d11e5f",
   "metadata": {
    "tags": []
   },
   "source": [
    "# Data Cleaning"
   ]
  },
  {
   "cell_type": "code",
   "execution_count": 91,
   "id": "8f1edba0-bbba-4d70-8fdc-0829eba0a988",
   "metadata": {
    "tags": []
   },
   "outputs": [],
   "source": [
    "import pandas as pd\n",
    "import numpy as np"
   ]
  },
  {
   "cell_type": "code",
   "execution_count": 92,
   "id": "2ed4f6bf-5e9c-43cf-8b26-642c87e0efd5",
   "metadata": {},
   "outputs": [],
   "source": [
    "train = pd.read_csv('../data/original_data/train.csv')\n",
    "test = pd.read_csv('../data/original_data/test.csv')"
   ]
  },
  {
   "cell_type": "code",
   "execution_count": 93,
   "id": "b1daefa6-fcd0-44c8-bea0-aa59c0c3d4e5",
   "metadata": {
    "tags": []
   },
   "outputs": [
    {
     "data": {
      "text/html": [
       "<div>\n",
       "<style scoped>\n",
       "    .dataframe tbody tr th:only-of-type {\n",
       "        vertical-align: middle;\n",
       "    }\n",
       "\n",
       "    .dataframe tbody tr th {\n",
       "        vertical-align: top;\n",
       "    }\n",
       "\n",
       "    .dataframe thead th {\n",
       "        text-align: right;\n",
       "    }\n",
       "</style>\n",
       "<table border=\"1\" class=\"dataframe\">\n",
       "  <thead>\n",
       "    <tr style=\"text-align: right;\">\n",
       "      <th></th>\n",
       "      <th>Id</th>\n",
       "      <th>PID</th>\n",
       "      <th>MS SubClass</th>\n",
       "      <th>MS Zoning</th>\n",
       "      <th>Lot Frontage</th>\n",
       "      <th>Lot Area</th>\n",
       "      <th>Street</th>\n",
       "      <th>Alley</th>\n",
       "      <th>Lot Shape</th>\n",
       "      <th>Land Contour</th>\n",
       "      <th>...</th>\n",
       "      <th>Screen Porch</th>\n",
       "      <th>Pool Area</th>\n",
       "      <th>Pool QC</th>\n",
       "      <th>Fence</th>\n",
       "      <th>Misc Feature</th>\n",
       "      <th>Misc Val</th>\n",
       "      <th>Mo Sold</th>\n",
       "      <th>Yr Sold</th>\n",
       "      <th>Sale Type</th>\n",
       "      <th>SalePrice</th>\n",
       "    </tr>\n",
       "  </thead>\n",
       "  <tbody>\n",
       "    <tr>\n",
       "      <th>0</th>\n",
       "      <td>109</td>\n",
       "      <td>533352170</td>\n",
       "      <td>60</td>\n",
       "      <td>RL</td>\n",
       "      <td>NaN</td>\n",
       "      <td>13517</td>\n",
       "      <td>Pave</td>\n",
       "      <td>NaN</td>\n",
       "      <td>IR1</td>\n",
       "      <td>Lvl</td>\n",
       "      <td>...</td>\n",
       "      <td>0</td>\n",
       "      <td>0</td>\n",
       "      <td>NaN</td>\n",
       "      <td>NaN</td>\n",
       "      <td>NaN</td>\n",
       "      <td>0</td>\n",
       "      <td>3</td>\n",
       "      <td>2010</td>\n",
       "      <td>WD</td>\n",
       "      <td>130500</td>\n",
       "    </tr>\n",
       "    <tr>\n",
       "      <th>1</th>\n",
       "      <td>544</td>\n",
       "      <td>531379050</td>\n",
       "      <td>60</td>\n",
       "      <td>RL</td>\n",
       "      <td>43.0</td>\n",
       "      <td>11492</td>\n",
       "      <td>Pave</td>\n",
       "      <td>NaN</td>\n",
       "      <td>IR1</td>\n",
       "      <td>Lvl</td>\n",
       "      <td>...</td>\n",
       "      <td>0</td>\n",
       "      <td>0</td>\n",
       "      <td>NaN</td>\n",
       "      <td>NaN</td>\n",
       "      <td>NaN</td>\n",
       "      <td>0</td>\n",
       "      <td>4</td>\n",
       "      <td>2009</td>\n",
       "      <td>WD</td>\n",
       "      <td>220000</td>\n",
       "    </tr>\n",
       "    <tr>\n",
       "      <th>2</th>\n",
       "      <td>153</td>\n",
       "      <td>535304180</td>\n",
       "      <td>20</td>\n",
       "      <td>RL</td>\n",
       "      <td>68.0</td>\n",
       "      <td>7922</td>\n",
       "      <td>Pave</td>\n",
       "      <td>NaN</td>\n",
       "      <td>Reg</td>\n",
       "      <td>Lvl</td>\n",
       "      <td>...</td>\n",
       "      <td>0</td>\n",
       "      <td>0</td>\n",
       "      <td>NaN</td>\n",
       "      <td>NaN</td>\n",
       "      <td>NaN</td>\n",
       "      <td>0</td>\n",
       "      <td>1</td>\n",
       "      <td>2010</td>\n",
       "      <td>WD</td>\n",
       "      <td>109000</td>\n",
       "    </tr>\n",
       "    <tr>\n",
       "      <th>3</th>\n",
       "      <td>318</td>\n",
       "      <td>916386060</td>\n",
       "      <td>60</td>\n",
       "      <td>RL</td>\n",
       "      <td>73.0</td>\n",
       "      <td>9802</td>\n",
       "      <td>Pave</td>\n",
       "      <td>NaN</td>\n",
       "      <td>Reg</td>\n",
       "      <td>Lvl</td>\n",
       "      <td>...</td>\n",
       "      <td>0</td>\n",
       "      <td>0</td>\n",
       "      <td>NaN</td>\n",
       "      <td>NaN</td>\n",
       "      <td>NaN</td>\n",
       "      <td>0</td>\n",
       "      <td>4</td>\n",
       "      <td>2010</td>\n",
       "      <td>WD</td>\n",
       "      <td>174000</td>\n",
       "    </tr>\n",
       "    <tr>\n",
       "      <th>4</th>\n",
       "      <td>255</td>\n",
       "      <td>906425045</td>\n",
       "      <td>50</td>\n",
       "      <td>RL</td>\n",
       "      <td>82.0</td>\n",
       "      <td>14235</td>\n",
       "      <td>Pave</td>\n",
       "      <td>NaN</td>\n",
       "      <td>IR1</td>\n",
       "      <td>Lvl</td>\n",
       "      <td>...</td>\n",
       "      <td>0</td>\n",
       "      <td>0</td>\n",
       "      <td>NaN</td>\n",
       "      <td>NaN</td>\n",
       "      <td>NaN</td>\n",
       "      <td>0</td>\n",
       "      <td>3</td>\n",
       "      <td>2010</td>\n",
       "      <td>WD</td>\n",
       "      <td>138500</td>\n",
       "    </tr>\n",
       "  </tbody>\n",
       "</table>\n",
       "<p>5 rows × 81 columns</p>\n",
       "</div>"
      ],
      "text/plain": [
       "    Id        PID  MS SubClass MS Zoning  Lot Frontage  Lot Area Street Alley  \\\n",
       "0  109  533352170           60        RL           NaN     13517   Pave   NaN   \n",
       "1  544  531379050           60        RL          43.0     11492   Pave   NaN   \n",
       "2  153  535304180           20        RL          68.0      7922   Pave   NaN   \n",
       "3  318  916386060           60        RL          73.0      9802   Pave   NaN   \n",
       "4  255  906425045           50        RL          82.0     14235   Pave   NaN   \n",
       "\n",
       "  Lot Shape Land Contour  ... Screen Porch Pool Area Pool QC Fence  \\\n",
       "0       IR1          Lvl  ...            0         0     NaN   NaN   \n",
       "1       IR1          Lvl  ...            0         0     NaN   NaN   \n",
       "2       Reg          Lvl  ...            0         0     NaN   NaN   \n",
       "3       Reg          Lvl  ...            0         0     NaN   NaN   \n",
       "4       IR1          Lvl  ...            0         0     NaN   NaN   \n",
       "\n",
       "  Misc Feature Misc Val Mo Sold Yr Sold  Sale Type  SalePrice  \n",
       "0          NaN        0       3    2010        WD      130500  \n",
       "1          NaN        0       4    2009        WD      220000  \n",
       "2          NaN        0       1    2010        WD      109000  \n",
       "3          NaN        0       4    2010        WD      174000  \n",
       "4          NaN        0       3    2010        WD      138500  \n",
       "\n",
       "[5 rows x 81 columns]"
      ]
     },
     "execution_count": 93,
     "metadata": {},
     "output_type": "execute_result"
    }
   ],
   "source": [
    "train.head()"
   ]
  },
  {
   "cell_type": "code",
   "execution_count": 94,
   "id": "57e23491-18f2-41a0-a4de-c32a6e6a4cfa",
   "metadata": {
    "tags": []
   },
   "outputs": [
    {
     "data": {
      "text/plain": [
       "(2051, 81)"
      ]
     },
     "execution_count": 94,
     "metadata": {},
     "output_type": "execute_result"
    }
   ],
   "source": [
    "train.shape"
   ]
  },
  {
   "cell_type": "code",
   "execution_count": 95,
   "id": "293759ec-b003-4b13-b6d0-3f38df924cdc",
   "metadata": {
    "tags": []
   },
   "outputs": [
    {
     "data": {
      "text/plain": [
       "(878, 80)"
      ]
     },
     "execution_count": 95,
     "metadata": {},
     "output_type": "execute_result"
    }
   ],
   "source": [
    "test.shape"
   ]
  },
  {
   "cell_type": "code",
   "execution_count": 96,
   "id": "08dedd3e-ab3e-46b3-8a02-dcd4ed1d4259",
   "metadata": {
    "tags": []
   },
   "outputs": [
    {
     "data": {
      "text/html": [
       "<div>\n",
       "<style scoped>\n",
       "    .dataframe tbody tr th:only-of-type {\n",
       "        vertical-align: middle;\n",
       "    }\n",
       "\n",
       "    .dataframe tbody tr th {\n",
       "        vertical-align: top;\n",
       "    }\n",
       "\n",
       "    .dataframe thead th {\n",
       "        text-align: right;\n",
       "    }\n",
       "</style>\n",
       "<table border=\"1\" class=\"dataframe\">\n",
       "  <thead>\n",
       "    <tr style=\"text-align: right;\">\n",
       "      <th></th>\n",
       "      <th>Id</th>\n",
       "      <th>PID</th>\n",
       "      <th>MS SubClass</th>\n",
       "      <th>Lot Frontage</th>\n",
       "      <th>Lot Area</th>\n",
       "      <th>Overall Qual</th>\n",
       "      <th>Overall Cond</th>\n",
       "      <th>Year Built</th>\n",
       "      <th>Year Remod/Add</th>\n",
       "      <th>Mas Vnr Area</th>\n",
       "      <th>...</th>\n",
       "      <th>Wood Deck SF</th>\n",
       "      <th>Open Porch SF</th>\n",
       "      <th>Enclosed Porch</th>\n",
       "      <th>3Ssn Porch</th>\n",
       "      <th>Screen Porch</th>\n",
       "      <th>Pool Area</th>\n",
       "      <th>Misc Val</th>\n",
       "      <th>Mo Sold</th>\n",
       "      <th>Yr Sold</th>\n",
       "      <th>SalePrice</th>\n",
       "    </tr>\n",
       "  </thead>\n",
       "  <tbody>\n",
       "    <tr>\n",
       "      <th>count</th>\n",
       "      <td>2051.000000</td>\n",
       "      <td>2.051000e+03</td>\n",
       "      <td>2051.000000</td>\n",
       "      <td>1721.000000</td>\n",
       "      <td>2051.000000</td>\n",
       "      <td>2051.000000</td>\n",
       "      <td>2051.000000</td>\n",
       "      <td>2051.000000</td>\n",
       "      <td>2051.000000</td>\n",
       "      <td>2029.000000</td>\n",
       "      <td>...</td>\n",
       "      <td>2051.000000</td>\n",
       "      <td>2051.000000</td>\n",
       "      <td>2051.000000</td>\n",
       "      <td>2051.000000</td>\n",
       "      <td>2051.000000</td>\n",
       "      <td>2051.000000</td>\n",
       "      <td>2051.000000</td>\n",
       "      <td>2051.000000</td>\n",
       "      <td>2051.000000</td>\n",
       "      <td>2051.000000</td>\n",
       "    </tr>\n",
       "    <tr>\n",
       "      <th>mean</th>\n",
       "      <td>1474.033642</td>\n",
       "      <td>7.135900e+08</td>\n",
       "      <td>57.008776</td>\n",
       "      <td>69.055200</td>\n",
       "      <td>10065.208191</td>\n",
       "      <td>6.112140</td>\n",
       "      <td>5.562165</td>\n",
       "      <td>1971.708922</td>\n",
       "      <td>1984.190151</td>\n",
       "      <td>99.695909</td>\n",
       "      <td>...</td>\n",
       "      <td>93.833740</td>\n",
       "      <td>47.556802</td>\n",
       "      <td>22.571916</td>\n",
       "      <td>2.591419</td>\n",
       "      <td>16.511458</td>\n",
       "      <td>2.397855</td>\n",
       "      <td>51.574354</td>\n",
       "      <td>6.219893</td>\n",
       "      <td>2007.775719</td>\n",
       "      <td>181469.701609</td>\n",
       "    </tr>\n",
       "    <tr>\n",
       "      <th>std</th>\n",
       "      <td>843.980841</td>\n",
       "      <td>1.886918e+08</td>\n",
       "      <td>42.824223</td>\n",
       "      <td>23.260653</td>\n",
       "      <td>6742.488909</td>\n",
       "      <td>1.426271</td>\n",
       "      <td>1.104497</td>\n",
       "      <td>30.177889</td>\n",
       "      <td>21.036250</td>\n",
       "      <td>174.963129</td>\n",
       "      <td>...</td>\n",
       "      <td>128.549416</td>\n",
       "      <td>66.747241</td>\n",
       "      <td>59.845110</td>\n",
       "      <td>25.229615</td>\n",
       "      <td>57.374204</td>\n",
       "      <td>37.782570</td>\n",
       "      <td>573.393985</td>\n",
       "      <td>2.744736</td>\n",
       "      <td>1.312014</td>\n",
       "      <td>79258.659352</td>\n",
       "    </tr>\n",
       "    <tr>\n",
       "      <th>min</th>\n",
       "      <td>1.000000</td>\n",
       "      <td>5.263011e+08</td>\n",
       "      <td>20.000000</td>\n",
       "      <td>21.000000</td>\n",
       "      <td>1300.000000</td>\n",
       "      <td>1.000000</td>\n",
       "      <td>1.000000</td>\n",
       "      <td>1872.000000</td>\n",
       "      <td>1950.000000</td>\n",
       "      <td>0.000000</td>\n",
       "      <td>...</td>\n",
       "      <td>0.000000</td>\n",
       "      <td>0.000000</td>\n",
       "      <td>0.000000</td>\n",
       "      <td>0.000000</td>\n",
       "      <td>0.000000</td>\n",
       "      <td>0.000000</td>\n",
       "      <td>0.000000</td>\n",
       "      <td>1.000000</td>\n",
       "      <td>2006.000000</td>\n",
       "      <td>12789.000000</td>\n",
       "    </tr>\n",
       "    <tr>\n",
       "      <th>25%</th>\n",
       "      <td>753.500000</td>\n",
       "      <td>5.284581e+08</td>\n",
       "      <td>20.000000</td>\n",
       "      <td>58.000000</td>\n",
       "      <td>7500.000000</td>\n",
       "      <td>5.000000</td>\n",
       "      <td>5.000000</td>\n",
       "      <td>1953.500000</td>\n",
       "      <td>1964.500000</td>\n",
       "      <td>0.000000</td>\n",
       "      <td>...</td>\n",
       "      <td>0.000000</td>\n",
       "      <td>0.000000</td>\n",
       "      <td>0.000000</td>\n",
       "      <td>0.000000</td>\n",
       "      <td>0.000000</td>\n",
       "      <td>0.000000</td>\n",
       "      <td>0.000000</td>\n",
       "      <td>4.000000</td>\n",
       "      <td>2007.000000</td>\n",
       "      <td>129825.000000</td>\n",
       "    </tr>\n",
       "    <tr>\n",
       "      <th>50%</th>\n",
       "      <td>1486.000000</td>\n",
       "      <td>5.354532e+08</td>\n",
       "      <td>50.000000</td>\n",
       "      <td>68.000000</td>\n",
       "      <td>9430.000000</td>\n",
       "      <td>6.000000</td>\n",
       "      <td>5.000000</td>\n",
       "      <td>1974.000000</td>\n",
       "      <td>1993.000000</td>\n",
       "      <td>0.000000</td>\n",
       "      <td>...</td>\n",
       "      <td>0.000000</td>\n",
       "      <td>27.000000</td>\n",
       "      <td>0.000000</td>\n",
       "      <td>0.000000</td>\n",
       "      <td>0.000000</td>\n",
       "      <td>0.000000</td>\n",
       "      <td>0.000000</td>\n",
       "      <td>6.000000</td>\n",
       "      <td>2008.000000</td>\n",
       "      <td>162500.000000</td>\n",
       "    </tr>\n",
       "    <tr>\n",
       "      <th>75%</th>\n",
       "      <td>2198.000000</td>\n",
       "      <td>9.071801e+08</td>\n",
       "      <td>70.000000</td>\n",
       "      <td>80.000000</td>\n",
       "      <td>11513.500000</td>\n",
       "      <td>7.000000</td>\n",
       "      <td>6.000000</td>\n",
       "      <td>2001.000000</td>\n",
       "      <td>2004.000000</td>\n",
       "      <td>161.000000</td>\n",
       "      <td>...</td>\n",
       "      <td>168.000000</td>\n",
       "      <td>70.000000</td>\n",
       "      <td>0.000000</td>\n",
       "      <td>0.000000</td>\n",
       "      <td>0.000000</td>\n",
       "      <td>0.000000</td>\n",
       "      <td>0.000000</td>\n",
       "      <td>8.000000</td>\n",
       "      <td>2009.000000</td>\n",
       "      <td>214000.000000</td>\n",
       "    </tr>\n",
       "    <tr>\n",
       "      <th>max</th>\n",
       "      <td>2930.000000</td>\n",
       "      <td>9.241520e+08</td>\n",
       "      <td>190.000000</td>\n",
       "      <td>313.000000</td>\n",
       "      <td>159000.000000</td>\n",
       "      <td>10.000000</td>\n",
       "      <td>9.000000</td>\n",
       "      <td>2010.000000</td>\n",
       "      <td>2010.000000</td>\n",
       "      <td>1600.000000</td>\n",
       "      <td>...</td>\n",
       "      <td>1424.000000</td>\n",
       "      <td>547.000000</td>\n",
       "      <td>432.000000</td>\n",
       "      <td>508.000000</td>\n",
       "      <td>490.000000</td>\n",
       "      <td>800.000000</td>\n",
       "      <td>17000.000000</td>\n",
       "      <td>12.000000</td>\n",
       "      <td>2010.000000</td>\n",
       "      <td>611657.000000</td>\n",
       "    </tr>\n",
       "  </tbody>\n",
       "</table>\n",
       "<p>8 rows × 39 columns</p>\n",
       "</div>"
      ],
      "text/plain": [
       "                Id           PID  MS SubClass  Lot Frontage       Lot Area  \\\n",
       "count  2051.000000  2.051000e+03  2051.000000   1721.000000    2051.000000   \n",
       "mean   1474.033642  7.135900e+08    57.008776     69.055200   10065.208191   \n",
       "std     843.980841  1.886918e+08    42.824223     23.260653    6742.488909   \n",
       "min       1.000000  5.263011e+08    20.000000     21.000000    1300.000000   \n",
       "25%     753.500000  5.284581e+08    20.000000     58.000000    7500.000000   \n",
       "50%    1486.000000  5.354532e+08    50.000000     68.000000    9430.000000   \n",
       "75%    2198.000000  9.071801e+08    70.000000     80.000000   11513.500000   \n",
       "max    2930.000000  9.241520e+08   190.000000    313.000000  159000.000000   \n",
       "\n",
       "       Overall Qual  Overall Cond   Year Built  Year Remod/Add  Mas Vnr Area  \\\n",
       "count   2051.000000   2051.000000  2051.000000     2051.000000   2029.000000   \n",
       "mean       6.112140      5.562165  1971.708922     1984.190151     99.695909   \n",
       "std        1.426271      1.104497    30.177889       21.036250    174.963129   \n",
       "min        1.000000      1.000000  1872.000000     1950.000000      0.000000   \n",
       "25%        5.000000      5.000000  1953.500000     1964.500000      0.000000   \n",
       "50%        6.000000      5.000000  1974.000000     1993.000000      0.000000   \n",
       "75%        7.000000      6.000000  2001.000000     2004.000000    161.000000   \n",
       "max       10.000000      9.000000  2010.000000     2010.000000   1600.000000   \n",
       "\n",
       "       ...  Wood Deck SF  Open Porch SF  Enclosed Porch   3Ssn Porch  \\\n",
       "count  ...   2051.000000    2051.000000     2051.000000  2051.000000   \n",
       "mean   ...     93.833740      47.556802       22.571916     2.591419   \n",
       "std    ...    128.549416      66.747241       59.845110    25.229615   \n",
       "min    ...      0.000000       0.000000        0.000000     0.000000   \n",
       "25%    ...      0.000000       0.000000        0.000000     0.000000   \n",
       "50%    ...      0.000000      27.000000        0.000000     0.000000   \n",
       "75%    ...    168.000000      70.000000        0.000000     0.000000   \n",
       "max    ...   1424.000000     547.000000      432.000000   508.000000   \n",
       "\n",
       "       Screen Porch    Pool Area      Misc Val      Mo Sold      Yr Sold  \\\n",
       "count   2051.000000  2051.000000   2051.000000  2051.000000  2051.000000   \n",
       "mean      16.511458     2.397855     51.574354     6.219893  2007.775719   \n",
       "std       57.374204    37.782570    573.393985     2.744736     1.312014   \n",
       "min        0.000000     0.000000      0.000000     1.000000  2006.000000   \n",
       "25%        0.000000     0.000000      0.000000     4.000000  2007.000000   \n",
       "50%        0.000000     0.000000      0.000000     6.000000  2008.000000   \n",
       "75%        0.000000     0.000000      0.000000     8.000000  2009.000000   \n",
       "max      490.000000   800.000000  17000.000000    12.000000  2010.000000   \n",
       "\n",
       "           SalePrice  \n",
       "count    2051.000000  \n",
       "mean   181469.701609  \n",
       "std     79258.659352  \n",
       "min     12789.000000  \n",
       "25%    129825.000000  \n",
       "50%    162500.000000  \n",
       "75%    214000.000000  \n",
       "max    611657.000000  \n",
       "\n",
       "[8 rows x 39 columns]"
      ]
     },
     "execution_count": 96,
     "metadata": {},
     "output_type": "execute_result"
    }
   ],
   "source": [
    "train.describe()"
   ]
  },
  {
   "cell_type": "code",
   "execution_count": 97,
   "id": "52eeab09-d06f-4caf-853a-0186da847d02",
   "metadata": {
    "tags": []
   },
   "outputs": [
    {
     "data": {
      "text/plain": [
       "['1st Flr SF',\n",
       " '2nd Flr SF',\n",
       " '3Ssn Porch',\n",
       " 'Alley',\n",
       " 'Bedroom AbvGr',\n",
       " 'Bldg Type',\n",
       " 'Bsmt Cond',\n",
       " 'Bsmt Exposure',\n",
       " 'Bsmt Full Bath',\n",
       " 'Bsmt Half Bath',\n",
       " 'Bsmt Qual',\n",
       " 'Bsmt Unf SF',\n",
       " 'BsmtFin SF 1',\n",
       " 'BsmtFin SF 2',\n",
       " 'BsmtFin Type 1',\n",
       " 'BsmtFin Type 2',\n",
       " 'Central Air',\n",
       " 'Condition 1',\n",
       " 'Condition 2',\n",
       " 'Electrical',\n",
       " 'Enclosed Porch',\n",
       " 'Exter Cond',\n",
       " 'Exter Qual',\n",
       " 'Exterior 1st',\n",
       " 'Exterior 2nd',\n",
       " 'Fence',\n",
       " 'Fireplace Qu',\n",
       " 'Fireplaces',\n",
       " 'Foundation',\n",
       " 'Full Bath',\n",
       " 'Functional',\n",
       " 'Garage Area',\n",
       " 'Garage Cars',\n",
       " 'Garage Cond',\n",
       " 'Garage Finish',\n",
       " 'Garage Qual',\n",
       " 'Garage Type',\n",
       " 'Garage Yr Blt',\n",
       " 'Gr Liv Area',\n",
       " 'Half Bath',\n",
       " 'Heating',\n",
       " 'Heating QC',\n",
       " 'House Style',\n",
       " 'Id',\n",
       " 'Kitchen AbvGr',\n",
       " 'Kitchen Qual',\n",
       " 'Land Contour',\n",
       " 'Land Slope',\n",
       " 'Lot Area',\n",
       " 'Lot Config',\n",
       " 'Lot Frontage',\n",
       " 'Lot Shape',\n",
       " 'Low Qual Fin SF',\n",
       " 'MS SubClass',\n",
       " 'MS Zoning',\n",
       " 'Mas Vnr Area',\n",
       " 'Mas Vnr Type',\n",
       " 'Misc Feature',\n",
       " 'Misc Val',\n",
       " 'Mo Sold',\n",
       " 'Neighborhood',\n",
       " 'Open Porch SF',\n",
       " 'Overall Cond',\n",
       " 'Overall Qual',\n",
       " 'PID',\n",
       " 'Paved Drive',\n",
       " 'Pool Area',\n",
       " 'Pool QC',\n",
       " 'Roof Matl',\n",
       " 'Roof Style',\n",
       " 'Sale Type',\n",
       " 'SalePrice',\n",
       " 'Screen Porch',\n",
       " 'Street',\n",
       " 'TotRms AbvGrd',\n",
       " 'Total Bsmt SF',\n",
       " 'Utilities',\n",
       " 'Wood Deck SF',\n",
       " 'Year Built',\n",
       " 'Year Remod/Add',\n",
       " 'Yr Sold']"
      ]
     },
     "execution_count": 97,
     "metadata": {},
     "output_type": "execute_result"
    }
   ],
   "source": [
    "sorted(train.columns.tolist())"
   ]
  },
  {
   "cell_type": "code",
   "execution_count": 98,
   "id": "6cb3fc11-c80f-4cb2-8733-a9301301a2ac",
   "metadata": {
    "tags": []
   },
   "outputs": [
    {
     "data": {
      "text/plain": [
       "[{'Id', dtype('int64')},\n",
       " {'PID', dtype('int64')},\n",
       " {'MS SubClass', dtype('int64')},\n",
       " {'MS Zoning', dtype('O')},\n",
       " {'Lot Frontage', dtype('float64')},\n",
       " {'Lot Area', dtype('int64')},\n",
       " {'Street', dtype('O')},\n",
       " {'Alley', dtype('O')},\n",
       " {'Lot Shape', dtype('O')},\n",
       " {'Land Contour', dtype('O')},\n",
       " {'Utilities', dtype('O')},\n",
       " {'Lot Config', dtype('O')},\n",
       " {'Land Slope', dtype('O')},\n",
       " {'Neighborhood', dtype('O')},\n",
       " {'Condition 1', dtype('O')},\n",
       " {'Condition 2', dtype('O')},\n",
       " {'Bldg Type', dtype('O')},\n",
       " {'House Style', dtype('O')},\n",
       " {'Overall Qual', dtype('int64')},\n",
       " {'Overall Cond', dtype('int64')},\n",
       " {'Year Built', dtype('int64')},\n",
       " {'Year Remod/Add', dtype('int64')},\n",
       " {'Roof Style', dtype('O')},\n",
       " {'Roof Matl', dtype('O')},\n",
       " {'Exterior 1st', dtype('O')},\n",
       " {'Exterior 2nd', dtype('O')},\n",
       " {'Mas Vnr Type', dtype('O')},\n",
       " {'Mas Vnr Area', dtype('float64')},\n",
       " {'Exter Qual', dtype('O')},\n",
       " {'Exter Cond', dtype('O')},\n",
       " {'Foundation', dtype('O')},\n",
       " {'Bsmt Qual', dtype('O')},\n",
       " {'Bsmt Cond', dtype('O')},\n",
       " {'Bsmt Exposure', dtype('O')},\n",
       " {'BsmtFin Type 1', dtype('O')},\n",
       " {'BsmtFin SF 1', dtype('float64')},\n",
       " {'BsmtFin Type 2', dtype('O')},\n",
       " {'BsmtFin SF 2', dtype('float64')},\n",
       " {'Bsmt Unf SF', dtype('float64')},\n",
       " {'Total Bsmt SF', dtype('float64')},\n",
       " {'Heating', dtype('O')},\n",
       " {'Heating QC', dtype('O')},\n",
       " {'Central Air', dtype('O')},\n",
       " {'Electrical', dtype('O')},\n",
       " {'1st Flr SF', dtype('int64')},\n",
       " {'2nd Flr SF', dtype('int64')},\n",
       " {'Low Qual Fin SF', dtype('int64')},\n",
       " {'Gr Liv Area', dtype('int64')},\n",
       " {'Bsmt Full Bath', dtype('float64')},\n",
       " {'Bsmt Half Bath', dtype('float64')},\n",
       " {'Full Bath', dtype('int64')},\n",
       " {'Half Bath', dtype('int64')},\n",
       " {'Bedroom AbvGr', dtype('int64')},\n",
       " {'Kitchen AbvGr', dtype('int64')},\n",
       " {'Kitchen Qual', dtype('O')},\n",
       " {'TotRms AbvGrd', dtype('int64')},\n",
       " {'Functional', dtype('O')},\n",
       " {'Fireplaces', dtype('int64')},\n",
       " {'Fireplace Qu', dtype('O')},\n",
       " {'Garage Type', dtype('O')},\n",
       " {'Garage Yr Blt', dtype('float64')},\n",
       " {'Garage Finish', dtype('O')},\n",
       " {'Garage Cars', dtype('float64')},\n",
       " {'Garage Area', dtype('float64')},\n",
       " {'Garage Qual', dtype('O')},\n",
       " {'Garage Cond', dtype('O')},\n",
       " {'Paved Drive', dtype('O')},\n",
       " {'Wood Deck SF', dtype('int64')},\n",
       " {'Open Porch SF', dtype('int64')},\n",
       " {'Enclosed Porch', dtype('int64')},\n",
       " {'3Ssn Porch', dtype('int64')},\n",
       " {'Screen Porch', dtype('int64')},\n",
       " {'Pool Area', dtype('int64')},\n",
       " {'Pool QC', dtype('O')},\n",
       " {'Fence', dtype('O')},\n",
       " {'Misc Feature', dtype('O')},\n",
       " {'Misc Val', dtype('int64')},\n",
       " {'Mo Sold', dtype('int64')},\n",
       " {'Yr Sold', dtype('int64')},\n",
       " {'Sale Type', dtype('O')},\n",
       " {'SalePrice', dtype('int64')}]"
      ]
     },
     "execution_count": 98,
     "metadata": {},
     "output_type": "execute_result"
    }
   ],
   "source": [
    "column_dtypes_list=[]\n",
    "\n",
    "for col in train.columns:\n",
    "    column_dtypes_list.append({col, train[col].dtype})\n",
    "\n",
    "column_dtypes_list\n",
    "    "
   ]
  },
  {
   "cell_type": "code",
   "execution_count": 99,
   "id": "c9503b0e-eeb9-4a14-beb6-2ec9b7e82e9a",
   "metadata": {
    "tags": []
   },
   "outputs": [
    {
     "data": {
      "text/plain": [
       "Pool QC           2042\n",
       "Misc Feature      1986\n",
       "Alley             1911\n",
       "Fence             1651\n",
       "Mas Vnr Type      1240\n",
       "Fireplace Qu      1000\n",
       "Lot Frontage       330\n",
       "Garage Qual        114\n",
       "Garage Finish      114\n",
       "Garage Yr Blt      114\n",
       "Garage Cond        114\n",
       "Garage Type        113\n",
       "Bsmt Exposure       58\n",
       "BsmtFin Type 2      56\n",
       "Bsmt Cond           55\n",
       "Bsmt Qual           55\n",
       "BsmtFin Type 1      55\n",
       "Mas Vnr Area        22\n",
       "Bsmt Half Bath       2\n",
       "Bsmt Full Bath       2\n",
       "Garage Area          1\n",
       "Total Bsmt SF        1\n",
       "Bsmt Unf SF          1\n",
       "BsmtFin SF 2         1\n",
       "BsmtFin SF 1         1\n",
       "dtype: int64"
      ]
     },
     "execution_count": 99,
     "metadata": {},
     "output_type": "execute_result"
    }
   ],
   "source": [
    "train.isna().sum().sort_values(ascending=False).head(25)"
   ]
  },
  {
   "cell_type": "code",
   "execution_count": 100,
   "id": "e203ced7-d760-47f6-ac30-b35d2768fc32",
   "metadata": {
    "tags": []
   },
   "outputs": [],
   "source": [
    "def cleaner_fill(df):\n",
    "    df['Pool QC'].fillna('no_pool', inplace = True)\n",
    "    df['Misc Feature'].fillna('none', inplace = True)\n",
    "    df['Alley'].fillna('no_alley_access', inplace = True)\n",
    "    df['Fence'].fillna('no_fence', inplace = True)\n",
    "    df['Mas Vnr Type'].fillna('none', inplace = True)\n",
    "    df['Fireplace Qu'].fillna('no_fireplace', inplace = True)\n",
    "    df['Garage Cond'].fillna('no_garage', inplace = True)\n",
    "    df['Garage Qual'].fillna('no_garage', inplace = True)\n",
    "    df['Garage Finish'].fillna('no_garage', inplace = True)\n",
    "    df['Garage Yr Blt'].fillna(0, inplace = True)\n",
    "    df['Lot Frontage'].fillna(0, inplace = True)\n",
    "    df['Garage Type'].fillna('no_garage', inplace = True)\n",
    "    df['Bsmt Exposure'].fillna('no_basement', inplace = True)\n",
    "    df['BsmtFin Type 2'].fillna('no_basement', inplace = True)\n",
    "    df['BsmtFin Type 1'].fillna('no_basement', inplace = True)\n",
    "    df['Bsmt Cond'].fillna('no_basement', inplace = True)\n",
    "    df['Bsmt Qual'].fillna('no_basement', inplace = True)\n",
    "    df['Mas Vnr Area'].fillna(0, inplace = True)\n",
    "    \n",
    "    return df"
   ]
  },
  {
   "cell_type": "code",
   "execution_count": 101,
   "id": "b353f916-89c8-48a9-9dc3-a53d20750943",
   "metadata": {
    "tags": []
   },
   "outputs": [],
   "source": [
    "def cleaner_drop(df):\n",
    "    df.dropna(inplace=True)\n",
    "    \n",
    "    return df"
   ]
  },
  {
   "cell_type": "code",
   "execution_count": 102,
   "id": "1c8636d8-e465-4748-8c44-32a645ff594a",
   "metadata": {
    "tags": []
   },
   "outputs": [],
   "source": [
    "def dummies(df):\n",
    "    categorical_columns = df.select_dtypes(include=['object']).columns\n",
    "    df = pd.get_dummies(df, columns = categorical_columns, drop_first=True)\n",
    "    \n",
    "    return df"
   ]
  },
  {
   "cell_type": "code",
   "execution_count": 103,
   "id": "d930e65b-9d84-4aeb-8be3-e816edf65c77",
   "metadata": {
    "tags": []
   },
   "outputs": [],
   "source": [
    "train_test_combine = pd.concat([train.drop(columns=['SalePrice']), test], axis = 0)"
   ]
  },
  {
   "cell_type": "code",
   "execution_count": 104,
   "id": "6d708e5f-f451-4efc-894b-96bd06835113",
   "metadata": {
    "tags": []
   },
   "outputs": [],
   "source": [
    "combine_clean = cleaner_fill(train_test_combine)"
   ]
  },
  {
   "cell_type": "code",
   "execution_count": 105,
   "id": "fe797a2e-0124-46a8-9b78-9ce4494aef97",
   "metadata": {},
   "outputs": [],
   "source": [
    "combine_clean = dummies(combine_clean)"
   ]
  },
  {
   "cell_type": "code",
   "execution_count": 106,
   "id": "e5643e50-c0c8-4523-a9c3-2ff30dfc923d",
   "metadata": {},
   "outputs": [],
   "source": [
    "train_clean = combine_clean.iloc[:len(train)]\n",
    "test_clean = combine_clean.iloc[len(train):]"
   ]
  },
  {
   "cell_type": "code",
   "execution_count": 107,
   "id": "fd9dc91f-d9c6-4ee5-8fb0-d11596b246db",
   "metadata": {},
   "outputs": [
    {
     "name": "stderr",
     "output_type": "stream",
     "text": [
      "/var/folders/q7/5h2c80n91kv48jr01119s4t80000gn/T/ipykernel_33504/1614592803.py:1: SettingWithCopyWarning: \n",
      "A value is trying to be set on a copy of a slice from a DataFrame.\n",
      "Try using .loc[row_indexer,col_indexer] = value instead\n",
      "\n",
      "See the caveats in the documentation: https://pandas.pydata.org/pandas-docs/stable/user_guide/indexing.html#returning-a-view-versus-a-copy\n",
      "  train_clean['SalePrice'] = train['SalePrice']\n"
     ]
    }
   ],
   "source": [
    "train_clean['SalePrice'] = train['SalePrice']"
   ]
  },
  {
   "cell_type": "code",
   "execution_count": 108,
   "id": "4874ba52-043a-442e-a368-a981fe3e928d",
   "metadata": {},
   "outputs": [
    {
     "name": "stderr",
     "output_type": "stream",
     "text": [
      "/var/folders/q7/5h2c80n91kv48jr01119s4t80000gn/T/ipykernel_33504/3370137465.py:2: SettingWithCopyWarning: \n",
      "A value is trying to be set on a copy of a slice from a DataFrame\n",
      "\n",
      "See the caveats in the documentation: https://pandas.pydata.org/pandas-docs/stable/user_guide/indexing.html#returning-a-view-versus-a-copy\n",
      "  df.dropna(inplace=True)\n"
     ]
    }
   ],
   "source": [
    "train_clean = cleaner_drop(train_clean)\n",
    "test_clean = cleaner_drop(test_clean)"
   ]
  },
  {
   "cell_type": "code",
   "execution_count": 109,
   "id": "111a39a8-1efe-4cc6-bd0d-398eaaa5edb0",
   "metadata": {
    "tags": []
   },
   "outputs": [],
   "source": [
    "# test_clean['SalePrice'] = 0"
   ]
  },
  {
   "cell_type": "code",
   "execution_count": 110,
   "id": "f133a3ea-5ca0-4b8b-8a07-fbbc12b745a9",
   "metadata": {},
   "outputs": [
    {
     "data": {
      "text/plain": [
       "(2048, 273)"
      ]
     },
     "execution_count": 110,
     "metadata": {},
     "output_type": "execute_result"
    }
   ],
   "source": [
    "train_clean.shape"
   ]
  },
  {
   "cell_type": "code",
   "execution_count": 111,
   "id": "2ba07375-748c-4fc5-992c-3ffe87e0ea23",
   "metadata": {},
   "outputs": [
    {
     "data": {
      "text/plain": [
       "(878, 272)"
      ]
     },
     "execution_count": 111,
     "metadata": {},
     "output_type": "execute_result"
    }
   ],
   "source": [
    "test_clean.shape"
   ]
  },
  {
   "cell_type": "code",
   "execution_count": 112,
   "id": "4f50db3b-5f20-452d-b97d-f7e0bf1ca18e",
   "metadata": {
    "tags": []
   },
   "outputs": [],
   "source": [
    "train_clean.to_csv('../data/cleaned_data/train_clean.csv', index=False)"
   ]
  },
  {
   "cell_type": "code",
   "execution_count": 113,
   "id": "1c1cb706-1e36-4f47-ad5c-bff8318232a0",
   "metadata": {
    "tags": []
   },
   "outputs": [],
   "source": [
    "test_clean.to_csv('../data/cleaned_data/test_clean.csv', index=False)"
   ]
  }
 ],
 "metadata": {
  "kernelspec": {
   "display_name": "Python 3 (ipykernel)",
   "language": "python",
   "name": "python3"
  },
  "language_info": {
   "codemirror_mode": {
    "name": "ipython",
    "version": 3
   },
   "file_extension": ".py",
   "mimetype": "text/x-python",
   "name": "python",
   "nbconvert_exporter": "python",
   "pygments_lexer": "ipython3",
   "version": "3.11.5"
  }
 },
 "nbformat": 4,
 "nbformat_minor": 5
}
